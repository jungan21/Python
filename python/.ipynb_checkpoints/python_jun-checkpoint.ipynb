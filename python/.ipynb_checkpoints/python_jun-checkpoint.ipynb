{
 "cells": [
  {
   "cell_type": "markdown",
   "metadata": {},
   "source": [
    "# Basic"
   ]
  },
  {
   "cell_type": "code",
   "execution_count": 1,
   "metadata": {},
   "outputs": [
    {
     "name": "stdout",
     "output_type": "stream",
     "text": [
      "1 1e-05 jun\n"
     ]
    }
   ],
   "source": [
    "a, b, c = 1, 1e-5, 'jun'\n",
    "print(a, b, c)"
   ]
  },
  {
   "cell_type": "code",
   "execution_count": 2,
   "metadata": {},
   "outputs": [
    {
     "name": "stdout",
     "output_type": "stream",
     "text": [
      "9\n"
     ]
    },
    {
     "data": {
      "text/plain": [
       "(1267650600228229401496703205376,\n",
       " 10715086071862673209484250490600018105614048117055336074437503883703510511249361224931983788156958581275946729175531468251871452856923140435984577574698574803934567774824230985421074605062371141877954182153046474983581941267398767559165543946077062914571196477686542167660429831652624386837205668069376)"
      ]
     },
     "execution_count": 2,
     "metadata": {},
     "output_type": "execute_result"
    }
   ],
   "source": [
    "# 指数\n",
    "a = 3 ** 2\n",
    "print(a)\n",
    "\n",
    "# python 整数可以非常大\n",
    "2 ** 100, 2 ** 1000"
   ]
  },
  {
   "cell_type": "code",
   "execution_count": 3,
   "metadata": {},
   "outputs": [
    {
     "name": "stdout",
     "output_type": "stream",
     "text": [
      "298\n"
     ]
    }
   ],
   "source": [
    "# 十六进制用0x前缀. 0-9，a-f表示10 - 15\n",
    "a = 0x12a # 1 * (16 ** 2) + 2 * (16 ** 1) + 10 * (16 ** 0)\n",
    "print(a)"
   ]
  },
  {
   "cell_type": "code",
   "execution_count": 4,
   "metadata": {},
   "outputs": [
    {
     "name": "stdout",
     "output_type": "stream",
     "text": [
      "1.5\n"
     ]
    }
   ],
   "source": [
    "# new feature in python 3\n",
    "a  = 3 / 2\n",
    "print(a)"
   ]
  },
  {
   "cell_type": "code",
   "execution_count": 5,
   "metadata": {},
   "outputs": [
    {
     "name": "stdout",
     "output_type": "stream",
     "text": [
      "1\n"
     ]
    }
   ],
   "source": [
    "# in python3, 二分搜索算法注意：mid = start + (end - start) // 2\n",
    "\n",
    "a  = 3 // 2\n",
    "print(a)"
   ]
  },
  {
   "cell_type": "code",
   "execution_count": 6,
   "metadata": {},
   "outputs": [
    {
     "name": "stdout",
     "output_type": "stream",
     "text": [
      "null\n"
     ]
    }
   ],
   "source": [
    "# python None, C++: NULL, Java null\n",
    "a = None\n",
    "if a:\n",
    "    print('not null')\n",
    "else:\n",
    "    print('null')"
   ]
  },
  {
   "cell_type": "code",
   "execution_count": 7,
   "metadata": {},
   "outputs": [
    {
     "name": "stdout",
     "output_type": "stream",
     "text": [
      "True\n"
     ]
    }
   ],
   "source": [
    "a, b = 10, 20\n",
    "print(1 <= a <=b <= 100)\n"
   ]
  },
  {
   "cell_type": "code",
   "execution_count": 8,
   "metadata": {},
   "outputs": [
    {
     "name": "stdout",
     "output_type": "stream",
     "text": [
      "Gan Jun\n"
     ]
    }
   ],
   "source": [
    "##SWAP variable\n",
    "a, b = 'Jun', 'Gan'\n",
    "a, b = b, a\n",
    "print(a + \" \" + b)\n"
   ]
  },
  {
   "cell_type": "markdown",
   "metadata": {},
   "source": [
    "# Lambda"
   ]
  },
  {
   "cell_type": "code",
   "execution_count": 9,
   "metadata": {},
   "outputs": [
    {
     "data": {
      "text/plain": [
       "8"
      ]
     },
     "execution_count": 9,
     "metadata": {},
     "output_type": "execute_result"
    }
   ],
   "source": [
    "f = lambda x: 2 ** x\n",
    "f(3)"
   ]
  },
  {
   "cell_type": "code",
   "execution_count": 10,
   "metadata": {},
   "outputs": [
    {
     "data": {
      "text/plain": [
       "9"
      ]
     },
     "execution_count": 10,
     "metadata": {},
     "output_type": "execute_result"
    }
   ],
   "source": [
    "func2 = lambda x, y : x + y\n",
    "func2(4, 5)"
   ]
  },
  {
   "cell_type": "code",
   "execution_count": 11,
   "metadata": {},
   "outputs": [
    {
     "data": {
      "text/plain": [
       "[1, 4, 9, 16]"
      ]
     },
     "execution_count": 11,
     "metadata": {},
     "output_type": "execute_result"
    }
   ],
   "source": [
    "nums = [1, 2, 3, 4]\n",
    "def square(x):\n",
    "    return x * x\n",
    "list(map(square, nums))"
   ]
  },
  {
   "cell_type": "code",
   "execution_count": 12,
   "metadata": {},
   "outputs": [
    {
     "data": {
      "text/plain": [
       "[1, 4, 9, 16]"
      ]
     },
     "execution_count": 12,
     "metadata": {},
     "output_type": "execute_result"
    }
   ],
   "source": [
    "list(map(lambda x : x * x, nums)) # map"
   ]
  },
  {
   "cell_type": "code",
   "execution_count": 13,
   "metadata": {},
   "outputs": [
    {
     "data": {
      "text/plain": [
       "[2, 4]"
      ]
     },
     "execution_count": 13,
     "metadata": {},
     "output_type": "execute_result"
    }
   ],
   "source": [
    "list(filter(lambda x : x % 2 == 0, [1, 2, 3, 4, 5])) # filter"
   ]
  },
  {
   "cell_type": "code",
   "execution_count": 14,
   "metadata": {},
   "outputs": [
    {
     "name": "stdout",
     "output_type": "stream",
     "text": [
      "<filter object at 0x10c985e48>\n",
      "[1, 3, 5, 7]\n"
     ]
    }
   ],
   "source": [
    "b = [1, 2, 3, 4, 5, 7]    # filter\n",
    "a = filter (lambda x: x % 2 == 1, b)\n",
    "print(a)\n",
    "print(list(a))"
   ]
  },
  {
   "cell_type": "code",
   "execution_count": 15,
   "metadata": {},
   "outputs": [
    {
     "data": {
      "text/plain": [
       "262144"
      ]
     },
     "execution_count": 15,
     "metadata": {},
     "output_type": "execute_result"
    }
   ],
   "source": [
    "from functools import reduce # reduce\n",
    "reduce (lambda x, y: y ** x, [1, 2, 3, 4])"
   ]
  },
  {
   "cell_type": "code",
   "execution_count": 16,
   "metadata": {},
   "outputs": [
    {
     "data": {
      "text/plain": [
       "10"
      ]
     },
     "execution_count": 16,
     "metadata": {},
     "output_type": "execute_result"
    }
   ],
   "source": [
    "from functools import reduce # reduce\n",
    "reduce (lambda x, y: x + y, [1, 2, 3, 4])"
   ]
  },
  {
   "cell_type": "code",
   "execution_count": 17,
   "metadata": {},
   "outputs": [],
   "source": [
    "list_c = [('a', 4), ('c', 5), ('b', 3), ('z', 100)]\n",
    "list_c.sort(key=lambda x: x[0])"
   ]
  },
  {
   "cell_type": "code",
   "execution_count": 18,
   "metadata": {},
   "outputs": [
    {
     "name": "stdout",
     "output_type": "stream",
     "text": [
      "[('a', 4), ('b', 3), ('c', 5), ('z', 100)]\n"
     ]
    }
   ],
   "source": [
    "print(list_c)"
   ]
  },
  {
   "cell_type": "code",
   "execution_count": 19,
   "metadata": {},
   "outputs": [
    {
     "name": "stdout",
     "output_type": "stream",
     "text": [
      "[0, 0, 0, 0, 0, 0, 0, 0, 0, 0]\n"
     ]
    }
   ],
   "source": [
    "l = [0 for _ in range(10)]\n",
    "print(l)"
   ]
  },
  {
   "cell_type": "markdown",
   "metadata": {},
   "source": [
    "y = np.random.randn(1000)\n",
    "plt.hist(y,25)\n",
    "plt.show"
   ]
  },
  {
   "cell_type": "code",
   "execution_count": 20,
   "metadata": {},
   "outputs": [
    {
     "ename": "NameError",
     "evalue": "name 'np' is not defined",
     "output_type": "error",
     "traceback": [
      "\u001b[0;31m---------------------------------------------------------------------------\u001b[0m",
      "\u001b[0;31mNameError\u001b[0m                                 Traceback (most recent call last)",
      "\u001b[0;32m<ipython-input-20-0a96768219e0>\u001b[0m in \u001b[0;36m<module>\u001b[0;34m()\u001b[0m\n\u001b[0;32m----> 1\u001b[0;31m \u001b[0mx\u001b[0m \u001b[0;34m=\u001b[0m \u001b[0mnp\u001b[0m\u001b[0;34m.\u001b[0m\u001b[0mrandom\u001b[0m\u001b[0;34m.\u001b[0m\u001b[0mrandn\u001b[0m\u001b[0;34m(\u001b[0m\u001b[0;36m1000\u001b[0m\u001b[0;34m)\u001b[0m\u001b[0;34m\u001b[0m\u001b[0m\n\u001b[0m\u001b[1;32m      2\u001b[0m \u001b[0my\u001b[0m \u001b[0;34m=\u001b[0m \u001b[0mnp\u001b[0m\u001b[0;34m.\u001b[0m\u001b[0mrandom\u001b[0m\u001b[0;34m.\u001b[0m\u001b[0mrandn\u001b[0m\u001b[0;34m(\u001b[0m\u001b[0;36m1000\u001b[0m\u001b[0;34m)\u001b[0m\u001b[0;34m\u001b[0m\u001b[0m\n\u001b[1;32m      3\u001b[0m \u001b[0mplt\u001b[0m\u001b[0;34m.\u001b[0m\u001b[0mscatter\u001b[0m\u001b[0;34m(\u001b[0m\u001b[0mx\u001b[0m\u001b[0;34m,\u001b[0m\u001b[0my\u001b[0m\u001b[0;34m)\u001b[0m\u001b[0;34m\u001b[0m\u001b[0m\n\u001b[1;32m      4\u001b[0m \u001b[0mplot\u001b[0m\u001b[0;34m.\u001b[0m\u001b[0mshow\u001b[0m\u001b[0;34m\u001b[0m\u001b[0m\n",
      "\u001b[0;31mNameError\u001b[0m: name 'np' is not defined"
     ]
    }
   ],
   "source": [
    "x = np.random.randn(1000)\n",
    "y = np.random.randn(1000)\n",
    "plt.scatter(x,y)\n",
    "plot.show"
   ]
  },
  {
   "cell_type": "markdown",
   "metadata": {},
   "source": [
    "# String"
   ]
  },
  {
   "cell_type": "code",
   "execution_count": null,
   "metadata": {},
   "outputs": [],
   "source": [
    "str_1 = 'I\\'m jun'\n",
    "str_2 = \"I'm jun\"\n",
    "print(str)\n",
    "print(str_2)"
   ]
  },
  {
   "cell_type": "code",
   "execution_count": null,
   "metadata": {},
   "outputs": [],
   "source": [
    "str1, str2, num1 = 'Jun', 'Gan', 3\n",
    "\n",
    "str3 = \"I want to say: %s %s\" % (str1, str2)\n",
    "\n",
    "print(str1 + ' ' + str2)\n",
    "print(str1 * 3)\n",
    "# have to use str function here\n",
    "print(str1 + str(num1))\n",
    "print(str3)\n",
    "print(str1[-1])\n",
    "print(str1[-2])"
   ]
  },
  {
   "cell_type": "code",
   "execution_count": null,
   "metadata": {},
   "outputs": [],
   "source": [
    "# convert class to string\n",
    "#__str__()\n",
    "#__repr__()\n",
    "\n",
    "class Student:\n",
    "    def __init__(self, val):\n",
    "        self.score = val\n",
    "    def __repr__(self):\n",
    "        return str(self.score)\n",
    "    def __str__(self):\n",
    "        return str(self.score)\n",
    "\n",
    "student = Student (1)\n",
    "print(student)\n",
    "\n",
    "# demo * 运算符带来的副作用\n",
    "# 即使里重复了10次， 但是这10个object 都还指向一个object\n",
    "group = [student] * 10\n",
    "group[1].score = 2\n",
    "print(group[0])\n",
    "print(group)\n",
    "\n",
    "\n",
    "#correct method\n",
    "group1 = [Student(1) for i in range (10)]\n",
    "group1[1].score = 2\n",
    "print(group1[0])\n",
    "print(group1)"
   ]
  },
  {
   "cell_type": "code",
   "execution_count": null,
   "metadata": {},
   "outputs": [],
   "source": [
    "# output character in String\n",
    "for c in str1:\n",
    "    print(c, end = \"# \")\n",
    "for idx in range(len(str1)):\n",
    "    print(str1[idx], end = \",\")"
   ]
  },
  {
   "cell_type": "code",
   "execution_count": null,
   "metadata": {},
   "outputs": [],
   "source": [
    "# can't modify string\n",
    "str1 = \"hello\"\n",
    "str1 = \"world\"\n",
    "print(str1)\n",
    "\n",
    "str1 = \"this is string example...wow!!! this is really sstring\"\n",
    "print (str1.replace(\"is\", \"was\"))\n",
    "print(str1)\n",
    "print (str1.replace(\"is\", \"was\", 3))\n",
    "\n",
    "# 1, 2 index\n",
    "print(str1[1:3])\n",
    "\n",
    "# find string\n",
    "print(str1.find(\"example\"))\n",
    "print(str1.find(\"examplee\"))"
   ]
  },
  {
   "cell_type": "code",
   "execution_count": null,
   "metadata": {},
   "outputs": [],
   "source": [
    "#range\n",
    "\n",
    "## range(101) 会生成一个0~100的list\n",
    "## range(m, n) 会生成一个m~n-1的list m < n\n",
    "## range(n, m, -1) 会生成一个n到m-1的降序的list\n",
    "## range(n, m, -2) 会生成一个n到m-1的降序的每隔一个数的list\n",
    "\n",
    "for i in range(2):\n",
    "    print(i)\n",
    "print(\"======\")\n",
    "for i in range(2, 4):\n",
    "    print(i)\n",
    "print(\"======\")\n",
    "# forward\n",
    "for i in range(4, 8, 2):\n",
    "    print(i)\n",
    "print(\"======\")\n",
    "# backward\n",
    "for i in range(0, -10, -4):\n",
    "    print(i)\n",
    "print(\"======\")\n"
   ]
  },
  {
   "cell_type": "code",
   "execution_count": null,
   "metadata": {},
   "outputs": [],
   "source": [
    "#reverse String\n",
    "#NP Style\n",
    "\n",
    "# range (start, end, -1) -1 means reversed\n",
    "str1=\"hello\"\n",
    "result = ''\n",
    "for idx in range(len(str1) -1, -1 , -1):\n",
    "    result += str1[idx]\n",
    "print(result)\n",
    "print(\"======\")\n",
    "#python style\n",
    "print (str1[::-1])\n",
    "print(\"======\")"
   ]
  },
  {
   "cell_type": "code",
   "execution_count": null,
   "metadata": {},
   "outputs": [],
   "source": [
    "# check non-empty string\n",
    "\n",
    "# non python style \n",
    "#Note: both \"\" and \" \" are considered as empty string\n",
    "name = \"jun\"\n",
    "if name != '':\n",
    "    print(name)\n",
    "\n",
    "# python style\n",
    "if name:\n",
    "    print(name)"
   ]
  },
  {
   "cell_type": "markdown",
   "metadata": {},
   "source": [
    "# List"
   ]
  },
  {
   "cell_type": "code",
   "execution_count": null,
   "metadata": {},
   "outputs": [],
   "source": [
    "# 和C++ 不同的是可以是不同类型的\n",
    "list_jun = [1, 2,\"jun\"]\n",
    "\n",
    "print(list_jun[1])\n",
    "print(list_jun[-1])\n",
    "\n",
    "for item in list_jun:\n",
    "    print(item, end = ', ')\n",
    "print(\"\\n======\")\n",
    "for i in range (0, len(list_jun)):\n",
    "    print(list_jun[i], end = ', ')"
   ]
  },
  {
   "cell_type": "code",
   "execution_count": null,
   "metadata": {},
   "outputs": [],
   "source": [
    "nums = [1, 2, 5, 4,3]\n",
    "nums_copy = sorted (nums)\n",
    "print(nums)\n",
    "print(nums_copy)"
   ]
  },
  {
   "cell_type": "code",
   "execution_count": null,
   "metadata": {},
   "outputs": [],
   "source": [
    "num1 = [1, 2]\n",
    "num2 = [3, 4]\n",
    "num3 = [3, 4]\n",
    "# 拼接\n",
    "# generate new object\n",
    "print(num1 + num2)\n",
    "print(num1 * 3)\n",
    "print(1 in num1)\n",
    "print(3 in num1)\n",
    "print(len(num1))\n",
    "num3[1] = 5\n",
    "print(num3)\n",
    "print(\"======\")\n",
    "\n",
    "# append & extend * delete\n",
    "num1.extend(num2)\n",
    "print(num1)\n",
    "num1= [1, 2]\n",
    "num1.append(num2)\n",
    "print(num1)\n",
    "del num1[1]\n",
    "print(num1)\n",
    "print(num1.pop())\n",
    "print(num1)\n",
    "# remove first matched item\n",
    "num1.remove(1)\n",
    "print(num1)\n",
    "print(\"======\")\n",
    "#max\n",
    "print(max(num2))\n",
    "print(min(num2))\n",
    "print(\"======\")\n",
    "# map()函数接受两个参数，一个是函数，一个是序列，map将传入的函数作用到序列的每个元素，并返回一个可以列表化的map对象@#\n",
    "# zip()是Python的一个内建函数，它接受一系列可迭代的对象作为参数，将对象中对应的元素打包成一个个tuple（元组），然后返回由这些tuples组成的可list化的zip对象。若传入参数的长度不等，则返回list的长度和参数中长度最短的对象相同。利用*号操作符，可以将list unzip\n",
    "num1=[1,2]\n",
    "addList = list(map(lambda x: x[0]+x[1], zip(num1, num2)))\n",
    "print(addList)"
   ]
  },
  {
   "cell_type": "code",
   "execution_count": null,
   "metadata": {},
   "outputs": [],
   "source": [
    "#generate list\n",
    "result = [i for i in range(0, 10) if i% 5 == 0]\n",
    "print(result)\n",
    "\n",
    "# not suggested\n",
    "a = [0] * 10\n",
    "print(a)"
   ]
  },
  {
   "cell_type": "code",
   "execution_count": null,
   "metadata": {},
   "outputs": [],
   "source": [
    "import numpy as np\n",
    "a = [1,2,3]\n",
    "b = [2,3,4]\n",
    "print(np.sum([a,b], axis = 0))\n",
    "print(\"======\")\n",
    "a = np.array([1,2,3])\n",
    "b = np.array([2,3,4])\n",
    "print(a+b)"
   ]
  },
  {
   "cell_type": "code",
   "execution_count": null,
   "metadata": {},
   "outputs": [],
   "source": [
    "#zip\n",
    "\n",
    "a = [1,2,3]\n",
    "b = [4,5,6]\n",
    "c = [7,8,9,10,11]\n",
    "zipped = zip(a,b)\n",
    "# <zip object at 0x02B01B48> #返回的是一个对象 [(1, 4), (2, 5), (3, 6)]\n",
    "print(zipped)\n",
    "print(list(zip(a,c)))\n"
   ]
  },
  {
   "cell_type": "code",
   "execution_count": null,
   "metadata": {},
   "outputs": [],
   "source": [
    "# join Strings in list\n",
    "strs = [\"Jun\", \"Gan\"]\n",
    "print(' | '.join(strs))\n",
    "print(', '.join(strs))"
   ]
  },
  {
   "cell_type": "code",
   "execution_count": null,
   "metadata": {},
   "outputs": [],
   "source": [
    "names = [\"jun\"]\n",
    "#NP\n",
    "if len(names) > 0:\n",
    "    print(names)\n",
    "\n",
    "# Python\n",
    "if names:\n",
    "    print(names)\n",
    "    "
   ]
  },
  {
   "cell_type": "code",
   "execution_count": null,
   "metadata": {},
   "outputs": [],
   "source": [
    "# print item in the same row with specific deli\n",
    "nums = [1, 2, 3]\n",
    "for num in nums:\n",
    "    print(num, end = ', ')\n",
    "print(\"\\n===\")\n",
    "for num in nums:\n",
    "    print(num, end = '# ')"
   ]
  },
  {
   "cell_type": "markdown",
   "metadata": {},
   "source": [
    "# Tuple"
   ]
  },
  {
   "cell_type": "code",
   "execution_count": null,
   "metadata": {},
   "outputs": [],
   "source": [
    "tup1 = (1,2,3)\n",
    "tup2 = (1, 2, 'hello')\n",
    "# tup3 is also tuple\n",
    "tup3 = \"a\", \"b\", \"c\"\n",
    "print(tup1)\n",
    "print(len(tup1))\n",
    "print(tup2)\n",
    "print(type(tup3))\n",
    "tup4 = ()\n",
    "print(type(tup4))\n",
    "###Note: tup5 is not tuple type\n",
    "tup5 = (10)\n",
    "print(type(tup5))\n",
    "tup6= (10,)\n",
    "print(type(tup6))\n",
    "\n",
    "tup7 = tup1 + tup2\n",
    "print(tup7)\n",
    "\n",
    "# delete tuple 7\n",
    "del tup7\n",
    "print(tup7)"
   ]
  },
  {
   "cell_type": "code",
   "execution_count": null,
   "metadata": {},
   "outputs": [],
   "source": [
    "# can't modify tuple\n",
    "tup1[0] = 'world'"
   ]
  },
  {
   "cell_type": "code",
   "execution_count": null,
   "metadata": {},
   "outputs": [],
   "source": [
    "a_list = [1, 2, 3]\n",
    "print(type(a_list))\n",
    "a_tup = tuple(a_list)\n",
    "print(type(a_tup))\n",
    "\n",
    "# convert 成 list后，就可以修改了\n",
    "a_tup_list = list(tup1)\n",
    "print(a_tup_list)\n",
    "a_tup_list[0] = 10\n",
    "print(a_tup_list)"
   ]
  },
  {
   "cell_type": "code",
   "execution_count": null,
   "metadata": {},
   "outputs": [],
   "source": [
    "# tuble can contains list\n",
    "# tuple 不可以修改，但是里面list 里额值可以修改\n",
    "t = (\"a\", \"b\", [\"x\", \"y\"])\n",
    "for item in t:\n",
    "    print(item, end=\", \")\n",
    "\n",
    "print(\"\\n===\")\n",
    "\n",
    "print(t[2])\n",
    "t[2][1] = 'z'\n",
    "t[2].append('x')\n",
    "print(t)\n",
    "    "
   ]
  },
  {
   "cell_type": "code",
   "execution_count": null,
   "metadata": {},
   "outputs": [],
   "source": [
    "A = [10, 11, 12, 13, 14]\n",
    "print(A[-1]) # last item in the array\n",
    "print(A[-2]) # 倒数第二个元素\n",
    "print(A[-2:]) # last two items in the array\n",
    "print(A[:-2]) # everything except the last two items\n",
    "print(\"\\n===\")\n",
    "print(A[-3:-1]) # 倒数第三个 到 导数第一个 （不包括倒数第一个）\n",
    "print(A[-3:-2]) # 倒数第三个 到 导数第二个 （不包括倒数第一个）\n",
    "print(A[::-1])"
   ]
  },
  {
   "cell_type": "markdown",
   "metadata": {},
   "source": [
    "# Set"
   ]
  },
  {
   "cell_type": "code",
   "execution_count": null,
   "metadata": {},
   "outputs": [],
   "source": [
    "# discard & delete区别\n",
    "# pop 有一个返回值的"
   ]
  },
  {
   "cell_type": "code",
   "execution_count": 31,
   "metadata": {},
   "outputs": [],
   "source": [
    "set_1 = set([12, 15, 18.2, 'hello'])\n",
    "set_2 = {12, 15, 18.2, 'hello'}\n",
    "set_3 = set('hello')\n",
    "set_4 = set() # empty set Note, you can't new {}. {} by defualt means empty dict"
   ]
  },
  {
   "cell_type": "code",
   "execution_count": 32,
   "metadata": {},
   "outputs": [
    {
     "data": {
      "text/plain": [
       "{12, 15, 18.2, 'Jiuzhang', 'hello'}"
      ]
     },
     "execution_count": 32,
     "metadata": {},
     "output_type": "execute_result"
    }
   ],
   "source": [
    "set_1.add('Jiuzhang')\n",
    "set_1"
   ]
  },
  {
   "cell_type": "code",
   "execution_count": 33,
   "metadata": {},
   "outputs": [
    {
     "data": {
      "text/plain": [
       "{11, 12, 15, 18.2, 'Jiuzhang', 'abc', 'hello'}"
      ]
     },
     "execution_count": 33,
     "metadata": {},
     "output_type": "execute_result"
    }
   ],
   "source": [
    "set_1.update([11, 'abc']) # update can do batch \"add\"\n",
    "set_1"
   ]
  },
  {
   "cell_type": "code",
   "execution_count": 35,
   "metadata": {},
   "outputs": [],
   "source": [
    "# Read"
   ]
  },
  {
   "cell_type": "code",
   "execution_count": 36,
   "metadata": {},
   "outputs": [
    {
     "name": "stdout",
     "output_type": "stream",
     "text": [
      "hello abc 11 12 15 18.2 Jiuzhang "
     ]
    }
   ],
   "source": [
    "for elem in set_1:\n",
    "    print(elem, end=' ')"
   ]
  },
  {
   "cell_type": "code",
   "execution_count": 37,
   "metadata": {},
   "outputs": [
    {
     "data": {
      "text/plain": [
       "True"
      ]
     },
     "execution_count": 37,
     "metadata": {},
     "output_type": "execute_result"
    }
   ],
   "source": [
    "12 in set_1"
   ]
  },
  {
   "cell_type": "code",
   "execution_count": null,
   "metadata": {},
   "outputs": [],
   "source": [
    "# Delete"
   ]
  },
  {
   "cell_type": "code",
   "execution_count": 38,
   "metadata": {},
   "outputs": [
    {
     "data": {
      "text/plain": [
       "{11, 15, 18.2, 'Jiuzhang', 'abc', 'hello'}"
      ]
     },
     "execution_count": 38,
     "metadata": {},
     "output_type": "execute_result"
    }
   ],
   "source": [
    "if 12 in set_1:\n",
    "    set_1.remove(12)\n",
    "set_1"
   ]
  },
  {
   "cell_type": "code",
   "execution_count": 40,
   "metadata": {},
   "outputs": [
    {
     "data": {
      "text/plain": [
       "{11, 15, 18.2, 'Jiuzhang', 'abc', 'hello'}"
      ]
     },
     "execution_count": 40,
     "metadata": {},
     "output_type": "execute_result"
    }
   ],
   "source": [
    "set_1.discard(13) # use discard, 当删除不存在的元素的时候，也不会报错\n",
    "set_1"
   ]
  },
  {
   "cell_type": "code",
   "execution_count": 41,
   "metadata": {},
   "outputs": [
    {
     "data": {
      "text/plain": [
       "'hello'"
      ]
     },
     "execution_count": 41,
     "metadata": {},
     "output_type": "execute_result"
    }
   ],
   "source": [
    "set_1.pop() # pop返回删除的元素"
   ]
  },
  {
   "cell_type": "code",
   "execution_count": 42,
   "metadata": {},
   "outputs": [
    {
     "data": {
      "text/plain": [
       "{11, 15, 18.2, 'Jiuzhang', 'abc'}"
      ]
     },
     "execution_count": 42,
     "metadata": {},
     "output_type": "execute_result"
    }
   ],
   "source": [
    "set_1"
   ]
  },
  {
   "cell_type": "code",
   "execution_count": 43,
   "metadata": {},
   "outputs": [
    {
     "data": {
      "text/plain": [
       "4"
      ]
     },
     "execution_count": 43,
     "metadata": {},
     "output_type": "execute_result"
    }
   ],
   "source": [
    "len(set_2)"
   ]
  },
  {
   "cell_type": "code",
   "execution_count": null,
   "metadata": {},
   "outputs": [],
   "source": [
    "# inter-Set Operation"
   ]
  },
  {
   "cell_type": "code",
   "execution_count": 44,
   "metadata": {},
   "outputs": [
    {
     "data": {
      "text/plain": [
       "{12, 15, 18.2, 'hello'}"
      ]
     },
     "execution_count": 44,
     "metadata": {},
     "output_type": "execute_result"
    }
   ],
   "source": [
    "set_2"
   ]
  },
  {
   "cell_type": "code",
   "execution_count": 45,
   "metadata": {},
   "outputs": [
    {
     "data": {
      "text/plain": [
       "{'e', 'h', 'l', 'o'}"
      ]
     },
     "execution_count": 45,
     "metadata": {},
     "output_type": "execute_result"
    }
   ],
   "source": [
    "set_3"
   ]
  },
  {
   "cell_type": "code",
   "execution_count": 46,
   "metadata": {},
   "outputs": [
    {
     "data": {
      "text/plain": [
       "{12, 15, 18.2, 'e', 'h', 'hello', 'l', 'o'}"
      ]
     },
     "execution_count": 46,
     "metadata": {},
     "output_type": "execute_result"
    }
   ],
   "source": [
    "set_2.union(set_3) # Union 等价于 |"
   ]
  },
  {
   "cell_type": "code",
   "execution_count": 47,
   "metadata": {},
   "outputs": [
    {
     "data": {
      "text/plain": [
       "{12, 15, 18.2, 'e', 'h', 'hello', 'l', 'o'}"
      ]
     },
     "execution_count": 47,
     "metadata": {},
     "output_type": "execute_result"
    }
   ],
   "source": [
    "set_2 | set_3"
   ]
  },
  {
   "cell_type": "code",
   "execution_count": 48,
   "metadata": {},
   "outputs": [
    {
     "data": {
      "text/plain": [
       "{11, 15, 18.2, 'Jiuzhang', 'abc'}"
      ]
     },
     "execution_count": 48,
     "metadata": {},
     "output_type": "execute_result"
    }
   ],
   "source": [
    "set_1"
   ]
  },
  {
   "cell_type": "code",
   "execution_count": 55,
   "metadata": {},
   "outputs": [
    {
     "data": {
      "text/plain": [
       "{12, 15, 18.2, 'hello'}"
      ]
     },
     "execution_count": 55,
     "metadata": {},
     "output_type": "execute_result"
    }
   ],
   "source": [
    "set_2"
   ]
  },
  {
   "cell_type": "code",
   "execution_count": 49,
   "metadata": {},
   "outputs": [
    {
     "data": {
      "text/plain": [
       "{15, 18.2}"
      ]
     },
     "execution_count": 49,
     "metadata": {},
     "output_type": "execute_result"
    }
   ],
   "source": [
    "set_2.intersection(set_1) # intersection 等价于 &"
   ]
  },
  {
   "cell_type": "code",
   "execution_count": 50,
   "metadata": {},
   "outputs": [
    {
     "data": {
      "text/plain": [
       "{15, 18.2}"
      ]
     },
     "execution_count": 50,
     "metadata": {},
     "output_type": "execute_result"
    }
   ],
   "source": [
    "set_2 & set_1"
   ]
  },
  {
   "cell_type": "code",
   "execution_count": 51,
   "metadata": {},
   "outputs": [
    {
     "data": {
      "text/plain": [
       "{12, 'hello'}"
      ]
     },
     "execution_count": 51,
     "metadata": {},
     "output_type": "execute_result"
    }
   ],
   "source": [
    "set_2.difference(set_1) # in set 2, but not in set1 等价于 \"-\""
   ]
  },
  {
   "cell_type": "code",
   "execution_count": 54,
   "metadata": {},
   "outputs": [
    {
     "data": {
      "text/plain": [
       "{12, 'hello'}"
      ]
     },
     "execution_count": 54,
     "metadata": {},
     "output_type": "execute_result"
    }
   ],
   "source": [
    "set_2 - set_1"
   ]
  },
  {
   "cell_type": "code",
   "execution_count": 56,
   "metadata": {},
   "outputs": [
    {
     "data": {
      "text/plain": [
       "{11, 12, 'Jiuzhang', 'abc', 'hello'}"
      ]
     },
     "execution_count": 56,
     "metadata": {},
     "output_type": "execute_result"
    }
   ],
   "source": [
    "set_2.symmetric_difference(set_1)   #  set2用set1没用， set1没有set2没有，等价于 \"^\""
   ]
  },
  {
   "cell_type": "code",
   "execution_count": 57,
   "metadata": {},
   "outputs": [
    {
     "data": {
      "text/plain": [
       "{11, 12, 'Jiuzhang', 'abc', 'hello'}"
      ]
     },
     "execution_count": 57,
     "metadata": {},
     "output_type": "execute_result"
    }
   ],
   "source": [
    "set_2 ^ set_1"
   ]
  },
  {
   "cell_type": "markdown",
   "metadata": {},
   "source": [
    "# Dict"
   ]
  },
  {
   "cell_type": "code",
   "execution_count": null,
   "metadata": {},
   "outputs": [],
   "source": [
    "# define dict\n",
    "# 定义list: []， 定义： tuple: ()\n",
    "# 虽然定义Set, Dict都用 {}, 但是 {}默认表示空的dict, 如果要定义空的set 则要 set_jun= set()\n",
    "dict_1 = {}\n",
    "dict_2 = {'spam': 2, 'eggs': 3, 'food': {'ham': 1, 'ice': 2}}\n",
    "dict_3 = dict(zip(['spam', 'eggs'], [2, 3]))"
   ]
  },
  {
   "cell_type": "markdown",
   "metadata": {},
   "source": [
    "### Dict Create/Add"
   ]
  },
  {
   "cell_type": "code",
   "execution_count": null,
   "metadata": {},
   "outputs": [],
   "source": [
    "dict_1[2] = 4\n",
    "dict_1"
   ]
  },
  {
   "cell_type": "code",
   "execution_count": null,
   "metadata": {},
   "outputs": [],
   "source": [
    "dict_1['jiuzhang'] = 0\n",
    "dict_1"
   ]
  },
  {
   "cell_type": "code",
   "execution_count": null,
   "metadata": {},
   "outputs": [],
   "source": [
    "# update can do batch \"add\"\n",
    "dict_1.update(dict_3)\n",
    "dict_1"
   ]
  },
  {
   "cell_type": "markdown",
   "metadata": {},
   "source": [
    "### Dict Read"
   ]
  },
  {
   "cell_type": "code",
   "execution_count": null,
   "metadata": {},
   "outputs": [],
   "source": [
    "if 'jiuzhang' in dict_1:\n",
    "    print(dict_1['jiuzhang'])"
   ]
  },
  {
   "cell_type": "code",
   "execution_count": null,
   "metadata": {},
   "outputs": [],
   "source": [
    "dict_1.get('jiuzhang', 0) # if not exist, 0 is the default return value"
   ]
  },
  {
   "cell_type": "code",
   "execution_count": null,
   "metadata": {},
   "outputs": [],
   "source": [
    "dict_1.keys()"
   ]
  },
  {
   "cell_type": "code",
   "execution_count": null,
   "metadata": {},
   "outputs": [],
   "source": [
    "dict_1.values()"
   ]
  },
  {
   "cell_type": "code",
   "execution_count": null,
   "metadata": {},
   "outputs": [],
   "source": [
    "dict_1.items()"
   ]
  },
  {
   "cell_type": "code",
   "execution_count": null,
   "metadata": {},
   "outputs": [],
   "source": [
    "#迭代遍历, recommended\n",
    "for key in dict_2:\n",
    "    print(key, dict_2[key])"
   ]
  },
  {
   "cell_type": "code",
   "execution_count": null,
   "metadata": {},
   "outputs": [],
   "source": [
    "for key in dict_2.keys():\n",
    "    print(key, dict_2[key])"
   ]
  },
  {
   "cell_type": "code",
   "execution_count": null,
   "metadata": {},
   "outputs": [],
   "source": [
    "for (key, val) in dict_2.items():\n",
    "    print(key, val)"
   ]
  },
  {
   "cell_type": "markdown",
   "metadata": {},
   "source": [
    "### Dict udpate"
   ]
  },
  {
   "cell_type": "code",
   "execution_count": null,
   "metadata": {},
   "outputs": [],
   "source": [
    "dict_1['jiuzhang'] = 100\n",
    "dict_1"
   ]
  },
  {
   "cell_type": "markdown",
   "metadata": {},
   "source": [
    "### Dict Delete"
   ]
  },
  {
   "cell_type": "code",
   "execution_count": null,
   "metadata": {},
   "outputs": [],
   "source": [
    "dict_2.pop('spam') # \n",
    "dict_2"
   ]
  },
  {
   "cell_type": "code",
   "execution_count": null,
   "metadata": {},
   "outputs": [],
   "source": [
    "del dict_2['food']\n",
    "dict_2"
   ]
  },
  {
   "cell_type": "code",
   "execution_count": null,
   "metadata": {},
   "outputs": [],
   "source": [
    "len(dict_2) # Dict size"
   ]
  },
  {
   "cell_type": "code",
   "execution_count": null,
   "metadata": {},
   "outputs": [],
   "source": [
    "# list [], tuple (), dict {}, Set{}\n",
    "\n",
    "scores = {\"Jun\": 100, \"Gan\":90, \"jungan\": 80}\n",
    "print(scores[\"Jun\"])\n",
    "del scores[\"Gan\"]\n",
    "print(scores)\n",
    "scores[\"jungan\"]=99\n",
    "print(scores)\n",
    "\n",
    "print(scores.keys())\n",
    "print(scores.values())\n",
    "print(scores.items())\n",
    "\n",
    "#(key, val) is tuple\n",
    "for key, val in scores.items():\n",
    "    print(key, val)"
   ]
  },
  {
   "cell_type": "markdown",
   "metadata": {},
   "source": [
    "# Conditional Statemnt - if"
   ]
  },
  {
   "cell_type": "code",
   "execution_count": 25,
   "metadata": {},
   "outputs": [
    {
     "name": "stdout",
     "output_type": "stream",
     "text": [
      "20\n",
      "=====\n",
      "33\n"
     ]
    }
   ],
   "source": [
    "# NP:\n",
    "a, b = 11, 22\n",
    "if a > 10:\n",
    "    b = 20\n",
    "else:\n",
    "    b = 5\n",
    "print(b)\n",
    "print(\"=====\")\n",
    "\n",
    "#Python Style\n",
    "b = 33 if a > 10 else 5\n",
    "print(b)"
   ]
  },
  {
   "cell_type": "code",
   "execution_count": null,
   "metadata": {},
   "outputs": [],
   "source": [
    "a = 5 "
   ]
  },
  {
   "cell_type": "code",
   "execution_count": null,
   "metadata": {},
   "outputs": [],
   "source": [
    "if a < 5:\n",
    "    print(a)\n",
    "else:\n",
    "    print(g)"
   ]
  },
  {
   "cell_type": "code",
   "execution_count": null,
   "metadata": {},
   "outputs": [],
   "source": [
    "# 解释性语言的特征，只有执行到这句话 才会报错\n",
    "if a <= 5:\n",
    "    print(a)\n",
    "else:\n",
    "    print(g)"
   ]
  },
  {
   "cell_type": "code",
   "execution_count": null,
   "metadata": {},
   "outputs": [],
   "source": [
    "if a >=5:\n",
    "    print(a)\n",
    "elif a >= 4:\n",
    "    print(a)\n",
    "elif a >=3:\n",
    "    print(a)"
   ]
  },
  {
   "cell_type": "code",
   "execution_count": null,
   "metadata": {},
   "outputs": [],
   "source": [
    "a=5\n",
    "if a >10:\n",
    "    b = 20\n",
    "else:\n",
    "    b = 5\n",
    "\n",
    "b = 20 if a > 10 else 5"
   ]
  },
  {
   "cell_type": "markdown",
   "metadata": {},
   "source": [
    "# Loop"
   ]
  },
  {
   "cell_type": "code",
   "execution_count": null,
   "metadata": {},
   "outputs": [],
   "source": []
  },
  {
   "cell_type": "code",
   "execution_count": null,
   "metadata": {},
   "outputs": [],
   "source": [
    "for i in range(5):\n",
    "    if i == 3:\n",
    "        continue\n",
    "    print(i, end = \", \")"
   ]
  },
  {
   "cell_type": "code",
   "execution_count": null,
   "metadata": {},
   "outputs": [],
   "source": [
    "for i in range(5):\n",
    "    if i == 3:\n",
    "        break\n",
    "    print(i, end = \", \")"
   ]
  },
  {
   "cell_type": "code",
   "execution_count": null,
   "metadata": {},
   "outputs": [],
   "source": [
    "# 0 ~ 100\n",
    "for num in range(101):\n",
    "    print(num, end=\", \")"
   ]
  },
  {
   "cell_type": "code",
   "execution_count": null,
   "metadata": {},
   "outputs": [],
   "source": [
    "for num in range(50, 101):\n",
    "    print(num, end=\", \")"
   ]
  },
  {
   "cell_type": "code",
   "execution_count": null,
   "metadata": {},
   "outputs": [],
   "source": [
    "for num in range(100, 50, -1):\n",
    "    print(num, end=\", \")"
   ]
  },
  {
   "cell_type": "code",
   "execution_count": null,
   "metadata": {},
   "outputs": [],
   "source": [
    "for num in range(50, 100, 2):\n",
    "    print(num, end=\", \")"
   ]
  },
  {
   "cell_type": "code",
   "execution_count": null,
   "metadata": {},
   "outputs": [],
   "source": [
    "for num in range(100, 50, -2):\n",
    "    print(num, end=\", \")"
   ]
  },
  {
   "cell_type": "code",
   "execution_count": null,
   "metadata": {},
   "outputs": [],
   "source": [
    "#enumerate to get both index and actual item value\n",
    "scores = [90, 100, 80]\n",
    "for index, score in enumerate(scores):\n",
    "    print(index, score)\n",
    "print(\"===\")\n",
    "for index, score in enumerate(scores):\n",
    "    print(index, score, end = \", \")"
   ]
  },
  {
   "cell_type": "code",
   "execution_count": null,
   "metadata": {},
   "outputs": [],
   "source": [
    "str_test = \"cat.0.jpg\"\n",
    "print(str_test.split('.')[-1])"
   ]
  },
  {
   "cell_type": "code",
   "execution_count": null,
   "metadata": {},
   "outputs": [],
   "source": [
    "a_list = [1, 2, 3]\n",
    "print(a_list[-2:])"
   ]
  },
  {
   "cell_type": "code",
   "execution_count": null,
   "metadata": {},
   "outputs": [],
   "source": [
    "print(a_list[:-2])"
   ]
  },
  {
   "cell_type": "code",
   "execution_count": null,
   "metadata": {},
   "outputs": [],
   "source": []
  },
  {
   "cell_type": "markdown",
   "metadata": {},
   "source": [
    "# Sort"
   ]
  },
  {
   "cell_type": "code",
   "execution_count": 21,
   "metadata": {},
   "outputs": [],
   "source": [
    "nums  = [1, 2, 4, 5,3 ]"
   ]
  },
  {
   "cell_type": "code",
   "execution_count": 22,
   "metadata": {},
   "outputs": [
    {
     "data": {
      "text/plain": [
       "[1, 2, 3, 4, 5]"
      ]
     },
     "execution_count": 22,
     "metadata": {},
     "output_type": "execute_result"
    }
   ],
   "source": [
    "sorted_nums = sorted(nums) # 新的list, 原来的list 不变\n",
    "sorted_nums"
   ]
  },
  {
   "cell_type": "code",
   "execution_count": 23,
   "metadata": {},
   "outputs": [
    {
     "data": {
      "text/plain": [
       "[1, 2, 4, 5, 3]"
      ]
     },
     "execution_count": 23,
     "metadata": {},
     "output_type": "execute_result"
    }
   ],
   "source": [
    "nums"
   ]
  },
  {
   "cell_type": "code",
   "execution_count": 24,
   "metadata": {},
   "outputs": [],
   "source": [
    "nums.sort(reverse=True) # 原地排序， 改变原来的list"
   ]
  },
  {
   "cell_type": "code",
   "execution_count": 26,
   "metadata": {},
   "outputs": [],
   "source": [
    "# key to sepcify the sorting attribute\n",
    "tuples = [(1, 2), (2, -3), (-10, 5), (-13, 0)]"
   ]
  },
  {
   "cell_type": "code",
   "execution_count": 27,
   "metadata": {},
   "outputs": [
    {
     "data": {
      "text/plain": [
       "[(2, -3), (-13, 0), (1, 2), (-10, 5)]"
      ]
     },
     "execution_count": 27,
     "metadata": {},
     "output_type": "execute_result"
    }
   ],
   "source": [
    "sorted(tuples, key = lambda x: x[1])"
   ]
  },
  {
   "cell_type": "code",
   "execution_count": 28,
   "metadata": {},
   "outputs": [
    {
     "data": {
      "text/plain": [
       "[(-13, 0), (-10, 5), (2, -3), (1, 2)]"
      ]
     },
     "execution_count": 28,
     "metadata": {},
     "output_type": "execute_result"
    }
   ],
   "source": [
    "sorted(tuples, key = lambda x: x[0] + x[1])"
   ]
  },
  {
   "cell_type": "code",
   "execution_count": 29,
   "metadata": {},
   "outputs": [
    {
     "data": {
      "text/plain": [
       "[(-13, 0), (-10, 5), (2, -3), (1, 2)]"
      ]
     },
     "execution_count": 29,
     "metadata": {},
     "output_type": "execute_result"
    }
   ],
   "source": [
    "from functools import cmp_to_key\n",
    "def cmp(a, b):\n",
    "    return (a[0] + a[1] - b[0] - b[1])\n",
    "sorted(tuples, key = cmp_to_key(cmp))"
   ]
  },
  {
   "cell_type": "code",
   "execution_count": null,
   "metadata": {},
   "outputs": [],
   "source": []
  }
 ],
 "metadata": {
  "kernelspec": {
   "display_name": "Python 3",
   "language": "python",
   "name": "python3"
  },
  "language_info": {
   "codemirror_mode": {
    "name": "ipython",
    "version": 3
   },
   "file_extension": ".py",
   "mimetype": "text/x-python",
   "name": "python",
   "nbconvert_exporter": "python",
   "pygments_lexer": "ipython3",
   "version": "3.6.6"
  }
 },
 "nbformat": 4,
 "nbformat_minor": 2
}
